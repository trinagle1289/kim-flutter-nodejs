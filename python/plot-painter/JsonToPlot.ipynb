{
 "cells": [
  {
   "cell_type": "code",
   "execution_count": 1,
   "id": "93acfc78-c110-45a0-a66b-0bccda758541",
   "metadata": {},
   "outputs": [],
   "source": [
    "import matplotlib as plt\n",
    "import json"
   ]
  },
  {
   "cell_type": "code",
   "execution_count": 2,
   "id": "8b5b1550-a1a8-45b5-8559-8acd328d7493",
   "metadata": {},
   "outputs": [],
   "source": [
    "JSON_FILE = './pose_result.json'"
   ]
  },
  {
   "cell_type": "code",
   "execution_count": 3,
   "id": "8568e548-fcac-46bc-acd3-237a850df425",
   "metadata": {},
   "outputs": [],
   "source": [
    "f = open(JSON_FILE)\n",
    "data = json.load(f)"
   ]
  },
  {
   "cell_type": "code",
   "execution_count": null,
   "id": "83c35e29-1343-4d78-a944-70f198d38a43",
   "metadata": {},
   "outputs": [],
   "source": [
    "data"
   ]
  }
 ],
 "metadata": {
  "kernelspec": {
   "display_name": "Plot Painter",
   "language": "python",
   "name": "plot-painter"
  },
  "language_info": {
   "codemirror_mode": {
    "name": "ipython",
    "version": 3
   },
   "file_extension": ".py",
   "mimetype": "text/x-python",
   "name": "python",
   "nbconvert_exporter": "python",
   "pygments_lexer": "ipython3",
   "version": "3.11.8"
  }
 },
 "nbformat": 4,
 "nbformat_minor": 5
}
